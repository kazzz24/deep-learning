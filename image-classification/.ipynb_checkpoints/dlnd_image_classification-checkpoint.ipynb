{
 "cells": [
  {
   "cell_type": "markdown",
   "metadata": {
    "collapsed": true,
    "deletable": true,
    "editable": true
   },
   "source": [
    "# Image Classification\n",
    "In this project, you'll classify images from the [CIFAR-10 dataset](https://www.cs.toronto.edu/~kriz/cifar.html).  The dataset consists of airplanes, dogs, cats, and other objects. You'll preprocess the images, then train a convolutional neural network on all the samples. The images need to be normalized and the labels need to be one-hot encoded.  You'll get to apply what you learned and build a convolutional, max pooling, dropout, and fully connected layers.  At the end, you'll get to see your neural network's predictions on the sample images.\n",
    "## Get the Data\n",
    "Run the following cell to download the [CIFAR-10 dataset for python](https://www.cs.toronto.edu/~kriz/cifar-10-python.tar.gz)."
   ]
  },
  {
   "cell_type": "code",
   "execution_count": 1,
   "metadata": {
    "collapsed": false,
    "deletable": true,
    "editable": true
   },
   "outputs": [
    {
     "name": "stderr",
     "output_type": "stream",
     "text": [
      "CIFAR-10 Dataset: 171MB [00:22, 7.65MB/s]                              \n"
     ]
    },
    {
     "name": "stdout",
     "output_type": "stream",
     "text": [
      "All files found!\n"
     ]
    }
   ],
   "source": [
    "\"\"\"\n",
    "DON'T MODIFY ANYTHING IN THIS CELL THAT IS BELOW THIS LINE\n",
    "\"\"\"\n",
    "from urllib.request import urlretrieve\n",
    "from os.path import isfile, isdir\n",
    "from tqdm import tqdm\n",
    "import problem_unittests as tests\n",
    "import tarfile\n",
    "\n",
    "cifar10_dataset_folder_path = 'cifar-10-batches-py'\n",
    "\n",
    "class DLProgress(tqdm):\n",
    "    last_block = 0\n",
    "\n",
    "    def hook(self, block_num=1, block_size=1, total_size=None):\n",
    "        self.total = total_size\n",
    "        self.update((block_num - self.last_block) * block_size)\n",
    "        self.last_block = block_num\n",
    "\n",
    "if not isfile('cifar-10-python.tar.gz'):\n",
    "    with DLProgress(unit='B', unit_scale=True, miniters=1, desc='CIFAR-10 Dataset') as pbar:\n",
    "        urlretrieve(\n",
    "            'https://www.cs.toronto.edu/~kriz/cifar-10-python.tar.gz',\n",
    "            'cifar-10-python.tar.gz',\n",
    "            pbar.hook)\n",
    "\n",
    "if not isdir(cifar10_dataset_folder_path):\n",
    "    with tarfile.open('cifar-10-python.tar.gz') as tar:\n",
    "        tar.extractall()\n",
    "        tar.close()\n",
    "\n",
    "\n",
    "tests.test_folder_path(cifar10_dataset_folder_path)"
   ]
  },
  {
   "cell_type": "markdown",
   "metadata": {
    "deletable": true,
    "editable": true
   },
   "source": [
    "## Explore the Data\n",
    "The dataset is broken into batches to prevent your machine from running out of memory.  The CIFAR-10 dataset consists of 5 batches, named `data_batch_1`, `data_batch_2`, etc.. Each batch contains the labels and images that are one of the following:\n",
    "* airplane\n",
    "* automobile\n",
    "* bird\n",
    "* cat\n",
    "* deer\n",
    "* dog\n",
    "* frog\n",
    "* horse\n",
    "* ship\n",
    "* truck\n",
    "\n",
    "Understanding a dataset is part of making predictions on the data.  Play around with the code cell below by changing the `batch_id` and `sample_id`. The `batch_id` is the id for a batch (1-5). The `sample_id` is the id for a image and label pair in the batch.\n",
    "\n",
    "Ask yourself \"What are all possible labels?\", \"What is the range of values for the image data?\", \"Are the labels in order or random?\".  Answers to questions like these will help you preprocess the data and end up with better predictions."
   ]
  },
  {
   "cell_type": "code",
   "execution_count": 2,
   "metadata": {
    "collapsed": false,
    "deletable": true,
    "editable": true
   },
   "outputs": [
    {
     "name": "stdout",
     "output_type": "stream",
     "text": [
      "\n",
      "Stats of batch 1:\n",
      "Samples: 10000\n",
      "Label Counts: {0: 1005, 1: 974, 2: 1032, 3: 1016, 4: 999, 5: 937, 6: 1030, 7: 1001, 8: 1025, 9: 981}\n",
      "First 20 Labels: [6, 9, 9, 4, 1, 1, 2, 7, 8, 3, 4, 7, 7, 2, 9, 9, 9, 3, 2, 6]\n",
      "\n",
      "Example of Image 5:\n",
      "Image - Min Value: 0 Max Value: 252\n",
      "Image - Shape: (32, 32, 3)\n",
      "Label - Label Id: 1 Name: automobile\n"
     ]
    },
    {
     "data": {
      "image/png": "[encoded data removed]",
      "text/plain": [
       "<matplotlib.figure.Figure at 0x7f0444503400>"
      ]
     },
     "metadata": {
      "image/png": {
       "height": 250,
       "width": 253
      }
     },
     "output_type": "display_data"
    }
   ],
   "source": [
    "%matplotlib inline\n",
    "%config InlineBackend.figure_format = 'retina'\n",
    "\n",
    "import helper\n",
    "import numpy as np\n",
    "\n",
    "# Explore the dataset\n",
    "batch_id = 1\n",
    "sample_id = 5\n",
    "helper.display_stats(cifar10_dataset_folder_path, batch_id, sample_id)"
   ]
  },
  {
   "cell_type": "markdown",
   "metadata": {
    "deletable": true,
    "editable": true
   },
   "source": [
    "## Implement Preprocess Functions\n",
    "### Normalize\n",
    "In the cell below, implement the `normalize` function to take in image data, `x`, and return it as a normalized Numpy array. The values should be in the range of 0 to 1, inclusive.  The return object should be the same shape as `x`."
   ]
  },
  {
   "cell_type": "code",
   "execution_count": 3,
   "metadata": {
    "collapsed": false,
    "deletable": true,
    "editable": true
   },
   "outputs": [
    {
     "name": "stdout",
     "output_type": "stream",
     "text": [
      "Tests Passed\n"
     ]
    }
   ],
   "source": [
    "def normalize(x):\n",
    "    \"\"\"\n",
    "    Normalize a list of sample image data in the range of 0 to 1\n",
    "    : x: List of image data.  The image shape is (32, 32, 3)\n",
    "    : return: Numpy array of normalize data\n",
    "    \"\"\"\n",
    "    # TODO: Implement Function\n",
    "    normed_array = np.array(x / np.linalg.norm(x))\n",
    "    return normed_array\n",
    "\n",
    "\n",
    "\"\"\"\n",
    "DON'T MODIFY ANYTHING IN THIS CELL THAT IS BELOW THIS LINE\n",
    "\"\"\"\n",
    "tests.test_normalize(normalize)"
   ]
  },
  {
   "cell_type": "markdown",
   "metadata": {
    "deletable": true,
    "editable": true
   },
   "source": [
    "### One-hot encode\n",
    "Just like the previous code cell, you'll be implementing a function for preprocessing.  This time, you'll implement the `one_hot_encode` function. The input, `x`, are a list of labels.  Implement the function to return the list of labels as One-Hot encoded Numpy array.  The possible values for labels are 0 to 9. The one-hot encoding function should return the same encoding for each value between each call to `one_hot_encode`.  Make sure to save the map of encodings outside the function.\n",
    "\n",
    "Hint: Don't reinvent the wheel."
   ]
  },
  {
   "cell_type": "code",
   "execution_count": 4,
   "metadata": {
    "collapsed": false,
    "deletable": true,
    "editable": true
   },
   "outputs": [
    {
     "name": "stdout",
     "output_type": "stream",
     "text": [
      "Tests Passed\n"
     ]
    }
   ],
   "source": [
    "from sklearn import preprocessing\n",
    "\n",
    "lb = preprocessing.LabelBinarizer()\n",
    "lb.fit(range(0, 10))\n",
    "#print(lb.classes_)\n",
    "\n",
    "def one_hot_encode(x):\n",
    "    \"\"\"\n",
    "    One hot encode a list of sample labels. Return a one-hot encoded vector for each label.\n",
    "    : x: List of sample Labels\n",
    "    : return: Numpy array of one-hot encoded labels\n",
    "    \"\"\"\n",
    "    # TODO: Implement Function\n",
    "    #print(x)\n",
    "    encoded_array = np.array(lb.transform(x))\n",
    "    #print(encoded_array)\n",
    "    return encoded_array\n",
    "\n",
    "\n",
    "\"\"\"\n",
    "DON'T MODIFY ANYTHING IN THIS CELL THAT IS BELOW THIS LINE\n",
    "\"\"\"\n",
    "tests.test_one_hot_encode(one_hot_encode)"
   ]
  },
  {
   "cell_type": "markdown",
   "metadata": {
    "deletable": true,
    "editable": true
   },
   "source": [
    "### Randomize Data\n",
    "As you saw from exploring the data above, the order of the samples are randomized.  It doesn't hurt to randomize it again, but you don't need to for this dataset."
   ]
  },
  {
   "cell_type": "markdown",
   "metadata": {
    "deletable": true,
    "editable": true
   },
   "source": [
    "## Preprocess all the data and save it\n",
    "Running the code cell below will preprocess all the CIFAR-10 data and save it to file. The code below also uses 10% of the training data for validation."
   ]
  },
  {
   "cell_type": "code",
   "execution_count": 5,
   "metadata": {
    "collapsed": false,
    "deletable": true,
    "editable": true
   },
   "outputs": [],
   "source": [
    "\"\"\"\n",
    "DON'T MODIFY ANYTHING IN THIS CELL\n",
    "\"\"\"\n",
    "# Preprocess Training, Validation, and Testing Data\n",
    "helper.preprocess_and_save_data(cifar10_dataset_folder_path, normalize, one_hot_encode)"
   ]
  },
  {
   "cell_type": "markdown",
   "metadata": {
    "deletable": true,
    "editable": true
   },
   "source": [
    "# Check Point\n",
    "This is your first checkpoint.  If you ever decide to come back to this notebook or have to restart the notebook, you can start from here.  The preprocessed data has been saved to disk."
   ]
  },
  {
   "cell_type": "code",
   "execution_count": 1,
   "metadata": {
    "collapsed": false,
    "deletable": true,
    "editable": true
   },
   "outputs": [],
   "source": [
    "\"\"\"\n",
    "DON'T MODIFY ANYTHING IN THIS CELL\n",
    "\"\"\"\n",
    "import pickle\n",
    "import problem_unittests as tests\n",
    "import helper\n",
    "\n",
    "# Load the Preprocessed Validation data\n",
    "valid_features, valid_labels = pickle.load(open('preprocess_validation.p', mode='rb'))"
   ]
  },
  {
   "cell_type": "markdown",
   "metadata": {
    "deletable": true,
    "editable": true
   },
   "source": [
    "## Build the network\n",
    "For the neural network, you'll build each layer into a function.  Most of the code you've seen has been outside of functions. To test your code more thoroughly, we require that you put each layer in a function.  This allows us to give you better feedback and test for simple mistakes using our unittests before you submit your project.\n",
    "\n",
    ">**Note:** If you're finding it hard to dedicate enough time for this course each week, we've provided a small shortcut to this part of the project. In the next couple of problems, you'll have the option to use classes from the [TensorFlow Layers](https://www.tensorflow.org/api_docs/python/tf/layers) or [TensorFlow Layers (contrib)](https://www.tensorflow.org/api_guides/python/contrib.layers) packages to build each layer, except the layers you build in the \"Convolutional and Max Pooling Layer\" section.  TF Layers is similar to Keras's and TFLearn's abstraction to layers, so it's easy to pickup.\n",
    "\n",
    ">However, if you would like to get the most out of this course, try to solve all the problems _without_ using anything from the TF Layers packages. You **can** still use classes from other packages that happen to have the same name as ones you find in TF Layers! For example, instead of using the TF Layers version of the `conv2d` class, [tf.layers.conv2d](https://www.tensorflow.org/api_docs/python/tf/layers/conv2d), you would want to use the TF Neural Network version of `conv2d`, [tf.nn.conv2d](https://www.tensorflow.org/api_docs/python/tf/nn/conv2d). \n",
    "\n",
    "Let's begin!\n",
    "\n",
    "### Input\n",
    "The neural network needs to read the image data, one-hot encoded labels, and dropout keep probability. Implement the following functions\n",
    "* Implement `neural_net_image_input`\n",
    " * Return a [TF Placeholder](https://www.tensorflow.org/api_docs/python/tf/placeholder)\n",
    " * Set the shape using `image_shape` with batch size set to `None`.\n",
    " * Name the TensorFlow placeholder \"x\" using the TensorFlow `name` parameter in the [TF Placeholder](https://www.tensorflow.org/api_docs/python/tf/placeholder).\n",
    "* Implement `neural_net_label_input`\n",
    " * Return a [TF Placeholder](https://www.tensorflow.org/api_docs/python/tf/placeholder)\n",
    " * Set the shape using `n_classes` with batch size set to `None`.\n",
    " * Name the TensorFlow placeholder \"y\" using the TensorFlow `name` parameter in the [TF Placeholder](https://www.tensorflow.org/api_docs/python/tf/placeholder).\n",
    "* Implement `neural_net_keep_prob_input`\n",
    " * Return a [TF Placeholder](https://www.tensorflow.org/api_docs/python/tf/placeholder) for dropout keep probability.\n",
    " * Name the TensorFlow placeholder \"keep_prob\" using the TensorFlow `name` parameter in the [TF Placeholder](https://www.tensorflow.org/api_docs/python/tf/placeholder).\n",
    "\n",
    "These names will be used at the end of the project to load your saved model.\n",
    "\n",
    "Note: `None` for shapes in TensorFlow allow for a dynamic size."
   ]
  },
  {
   "cell_type": "code",
   "execution_count": 2,
   "metadata": {
    "collapsed": false,
    "deletable": true,
    "editable": true
   },
   "outputs": [
    {
     "name": "stdout",
     "output_type": "stream",
     "text": [
      "Image Input Tests Passed.\n",
      "Label Input Tests Passed.\n",
      "Keep Prob Tests Passed.\n"
     ]
    }
   ],
   "source": [
    "import tensorflow as tf\n",
    "\n",
    "def neural_net_image_input(image_shape):\n",
    "    \"\"\"\n",
    "    Return a Tensor for a bach of image input\n",
    "    : image_shape: Shape of the images\n",
    "    : return: Tensor for image input.\n",
    "    \"\"\"\n",
    "    # TODO: Implement Function\n",
    "    #print(image_shape)\n",
    "    image_input = tf.placeholder(tf.float32, [None, *image_shape], name=\"x\")\n",
    "    return image_input\n",
    "\n",
    "\n",
    "def neural_net_label_input(n_classes):\n",
    "    \"\"\"\n",
    "    Return a Tensor for a batch of label input\n",
    "    : n_classes: Number of classes\n",
    "    : return: Tensor for label input.\n",
    "    \"\"\"\n",
    "    # TODO: Implement Function\n",
    "    #print(n_classes)\n",
    "    label_input = tf.placeholder(tf.float32, [None, n_classes], name=\"y\")\n",
    "    return label_input\n",
    "\n",
    "\n",
    "def neural_net_keep_prob_input():\n",
    "    \"\"\"\n",
    "    Return a Tensor for keep probability\n",
    "    : return: Tensor for keep probability.\n",
    "    \"\"\"\n",
    "    # TODO: Implement Function\n",
    "    keep_prob_input = tf.placeholder(tf.float32, name=\"keep_prob\")\n",
    "    return keep_prob_input\n",
    "\n",
    "\n",
    "\"\"\"\n",
    "DON'T MODIFY ANYTHING IN THIS CELL THAT IS BELOW THIS LINE\n",
    "\"\"\"\n",
    "tf.reset_default_graph()\n",
    "tests.test_nn_image_inputs(neural_net_image_input)\n",
    "tests.test_nn_label_inputs(neural_net_label_input)\n",
    "tests.test_nn_keep_prob_inputs(neural_net_keep_prob_input)"
   ]
  },
  {
   "cell_type": "markdown",
   "metadata": {
    "deletable": true,
    "editable": true
   },
   "source": [
    "### Convolution and Max Pooling Layer\n",
    "Convolution layers have a lot of success with images. For this code cell, you should implement the function `conv2d_maxpool` to apply convolution then max pooling:\n",
    "* Create the weight and bias using `conv_ksize`, `conv_num_outputs` and the shape of `x_tensor`.\n",
    "* Apply a convolution to `x_tensor` using weight and `conv_strides`.\n",
    " * We recommend you use same padding, but you're welcome to use any padding.\n",
    "* Add bias\n",
    "* Add a nonlinear activation to the convolution.\n",
    "* Apply Max Pooling using `pool_ksize` and `pool_strides`.\n",
    " * We recommend you use same padding, but you're welcome to use any padding.\n",
    "\n",
    "**Note:** You **can't** use [TensorFlow Layers](https://www.tensorflow.org/api_docs/python/tf/layers) or [TensorFlow Layers (contrib)](https://www.tensorflow.org/api_guides/python/contrib.layers) for **this** layer, but you can still use TensorFlow's [Neural Network](https://www.tensorflow.org/api_docs/python/tf/nn) package. You may still use the shortcut option for all the **other** layers."
   ]
  },
  {
   "cell_type": "code",
   "execution_count": 3,
   "metadata": {
    "collapsed": false,
    "deletable": true,
    "editable": true
   },
   "outputs": [
    {
     "name": "stdout",
     "output_type": "stream",
     "text": [
      "Tests Passed\n"
     ]
    }
   ],
   "source": [
    "def conv2d_maxpool(x_tensor, conv_num_outputs, conv_ksize, conv_strides, pool_ksize, pool_strides):\n",
    "    \"\"\"\n",
    "    Apply convolution then max pooling to x_tensor\n",
    "    :param x_tensor: TensorFlow Tensor\n",
    "    :param conv_num_outputs: Number of outputs for the convolutional layer\n",
    "    :param conv_ksize: kernal size 2-D Tuple for the convolutional layer\n",
    "    :param conv_strides: Stride 2-D Tuple for convolution\n",
    "    :param pool_ksize: kernal size 2-D Tuple for pool\n",
    "    :param pool_strides: Stride 2-D Tuple for pool\n",
    "    : return: A tensor that represents convolution and max pooling of x_tensor\n",
    "    \"\"\"\n",
    "    # TODO: Implement Function\n",
    "\n",
    "    # Filter (weights and bias)\n",
    "    # The shape of the filter weight is (height, width, input_depth, output_depth)\n",
    "    # The shape of the filter bias is (output_depth,)\n",
    "    \n",
    "    #print(x_tensor)\n",
    "    #print(type(x_tensor.shape))\n",
    "    #print(x_tensor.shape.as_list()[1:4])\n",
    "    #print(conv_num_outputs, conv_ksize, conv_strides, pool_ksize, pool_strides)\n",
    "    \n",
    "    weight = tf.Variable(tf.truncated_normal([*conv_ksize, x_tensor.shape.as_list()[-1], conv_num_outputs], mean=0, stddev=0.1))\n",
    "    bias = tf.Variable(tf.zeros([conv_num_outputs]))    \n",
    "    \n",
    "    conv_layer = tf.nn.conv2d(x_tensor, weight, strides=[1, *conv_strides, 1], padding='SAME')\n",
    "    conv_layer = tf.nn.bias_add(conv_layer, bias)\n",
    "    #conv_layer = tf.nn.relu(conv_layer)　　#having this here was making the result horrible...\n",
    "    \n",
    "    # Apply Max Pooling\n",
    "    conv_layer = tf.nn.max_pool(conv_layer, ksize=[1, *pool_ksize, 1], strides=[1, *pool_strides, 1], padding='SAME')\n",
    "    \n",
    "    return conv_layer \n",
    "\n",
    "\n",
    "\"\"\"\n",
    "DON'T MODIFY ANYTHING IN THIS CELL THAT IS BELOW THIS LINE\n",
    "\"\"\"\n",
    "tests.test_con_pool(conv2d_maxpool)\n"
   ]
  },
  {
   "cell_type": "markdown",
   "metadata": {
    "deletable": true,
    "editable": true
   },
   "source": [
    "### Flatten Layer\n",
    "Implement the `flatten` function to change the dimension of `x_tensor` from a 4-D tensor to a 2-D tensor.  The output should be the shape (*Batch Size*, *Flattened Image Size*). Shortcut option: you can use classes from the [TensorFlow Layers](https://www.tensorflow.org/api_docs/python/tf/layers) or [TensorFlow Layers (contrib)](https://www.tensorflow.org/api_guides/python/contrib.layers) packages for this layer. For more of a challenge, only use other TensorFlow packages."
   ]
  },
  {
   "cell_type": "code",
   "execution_count": 4,
   "metadata": {
    "collapsed": false,
    "deletable": true,
    "editable": true
   },
   "outputs": [
    {
     "name": "stdout",
     "output_type": "stream",
     "text": [
      "Tests Passed\n"
     ]
    }
   ],
   "source": [
    "import numpy as np\n",
    "\n",
    "def flatten(x_tensor):\n",
    "    \"\"\"\n",
    "    Flatten x_tensor to (Batch Size, Flattened Image Size)\n",
    "    : x_tensor: A tensor of size (Batch Size, ...), where ... are the image dimensions.\n",
    "    : return: A tensor of size (Batch Size, Flattened Image Size).\n",
    "    \"\"\"\n",
    "    # TODO: Implement Function\n",
    "    #print(x_tensor)\n",
    "    #print(x_tensor.shape.as_list()[1:4])\n",
    "    \n",
    "    shape = x_tensor.shape.as_list()\n",
    "    dim = np.prod(shape[1:])\n",
    "    flattened_tensor = tf.reshape(x_tensor, [-1, dim])           # -1 means \"all\"\n",
    "    return flattened_tensor\n",
    "\n",
    "\n",
    "\"\"\"\n",
    "DON'T MODIFY ANYTHING IN THIS CELL THAT IS BELOW THIS LINE\n",
    "\"\"\"\n",
    "tests.test_flatten(flatten)"
   ]
  },
  {
   "cell_type": "markdown",
   "metadata": {
    "deletable": true,
    "editable": true
   },
   "source": [
    "### Fully-Connected Layer\n",
    "Implement the `fully_conn` function to apply a fully connected layer to `x_tensor` with the shape (*Batch Size*, *num_outputs*). Shortcut option: you can use classes from the [TensorFlow Layers](https://www.tensorflow.org/api_docs/python/tf/layers) or [TensorFlow Layers (contrib)](https://www.tensorflow.org/api_guides/python/contrib.layers) packages for this layer. For more of a challenge, only use other TensorFlow packages."
   ]
  },
  {
   "cell_type": "code",
   "execution_count": 5,
   "metadata": {
    "collapsed": false,
    "deletable": true,
    "editable": true
   },
   "outputs": [
    {
     "name": "stdout",
     "output_type": "stream",
     "text": [
      "Tests Passed\n"
     ]
    }
   ],
   "source": [
    "def fully_conn(x_tensor, num_outputs):\n",
    "    \"\"\"\n",
    "    Apply a fully connected layer to x_tensor using weight and bias\n",
    "    : x_tensor: A 2-D tensor where the first dimension is batch size.\n",
    "    : num_outputs: The number of output that the new tensor should be.\n",
    "    : return: A 2-D tensor where the second dimension is num_outputs.\n",
    "    \"\"\"\n",
    "    # TODO: Implement Function\n",
    "    #print(x_tensor.shape[1])\n",
    "    #print(num_outputs)\n",
    "    \n",
    "    # Fully connected layer\n",
    "    weight = tf.Variable(tf.truncated_normal([x_tensor.shape.as_list()[1], num_outputs], mean=0, stddev=0.1))\n",
    "    bias = tf.Variable(tf.zeros([num_outputs]))    \n",
    "    fully_conn_layer = tf.add(tf.matmul(x_tensor, weight), bias)\n",
    "    fully_conn_layer = tf.nn.relu(fully_conn_layer)\n",
    "    \n",
    "    return fully_conn_layer\n",
    "\n",
    "\n",
    "\"\"\"\n",
    "DON'T MODIFY ANYTHING IN THIS CELL THAT IS BELOW THIS LINE\n",
    "\"\"\"\n",
    "tests.test_fully_conn(fully_conn)"
   ]
  },
  {
   "cell_type": "markdown",
   "metadata": {
    "deletable": true,
    "editable": true
   },
   "source": [
    "### Output Layer\n",
    "Implement the `output` function to apply a fully connected layer to `x_tensor` with the shape (*Batch Size*, *num_outputs*). Shortcut option: you can use classes from the [TensorFlow Layers](https://www.tensorflow.org/api_docs/python/tf/layers) or [TensorFlow Layers (contrib)](https://www.tensorflow.org/api_guides/python/contrib.layers) packages for this layer. For more of a challenge, only use other TensorFlow packages.\n",
    "\n",
    "**Note:** Activation, softmax, or cross entropy should **not** be applied to this."
   ]
  },
  {
   "cell_type": "code",
   "execution_count": 6,
   "metadata": {
    "collapsed": false,
    "deletable": true,
    "editable": true
   },
   "outputs": [
    {
     "name": "stdout",
     "output_type": "stream",
     "text": [
      "Tests Passed\n"
     ]
    }
   ],
   "source": [
    "def output(x_tensor, num_outputs):\n",
    "    \"\"\"\n",
    "    Apply a output layer to x_tensor using weight and bias\n",
    "    : x_tensor: A 2-D tensor where the first dimension is batch size.\n",
    "    : num_outputs: The number of output that the new tensor should be.\n",
    "    : return: A 2-D tensor where the second dimension is num_outputs.\n",
    "    \"\"\"\n",
    "    # TODO: Implement Function\n",
    "    #print(x_tensor)\n",
    "    #print(num_outputs)\n",
    " \n",
    "    weight = tf.Variable(tf.truncated_normal([x_tensor.shape.as_list()[1], num_outputs], mean=0, stddev=0.1))\n",
    "    bias = tf.Variable(tf.zeros([num_outputs]))    \n",
    "    \n",
    "    output_layer = tf.add(tf.matmul(x_tensor, weight), bias)\n",
    "\n",
    "    return output_layer\n",
    "\n",
    "\n",
    "\"\"\"\n",
    "DON'T MODIFY ANYTHING IN THIS CELL THAT IS BELOW THIS LINE\n",
    "\"\"\"\n",
    "tests.test_output(output)"
   ]
  },
  {
   "cell_type": "markdown",
   "metadata": {
    "deletable": true,
    "editable": true
   },
   "source": [
    "### Create Convolutional Model\n",
    "Implement the function `conv_net` to create a convolutional neural network model. The function takes in a batch of images, `x`, and outputs logits.  Use the layers you created above to create this model:\n",
    "\n",
    "* Apply 1, 2, or 3 Convolution and Max Pool layers\n",
    "* Apply a Flatten Layer\n",
    "* Apply 1, 2, or 3 Fully Connected Layers\n",
    "* Apply an Output Layer\n",
    "* Return the output\n",
    "* Apply [TensorFlow's Dropout](https://www.tensorflow.org/api_docs/python/tf/nn/dropout) to one or more layers in the model using `keep_prob`. "
   ]
  },
  {
   "cell_type": "code",
   "execution_count": 7,
   "metadata": {
    "collapsed": false,
    "deletable": true,
    "editable": true
   },
   "outputs": [
    {
     "name": "stdout",
     "output_type": "stream",
     "text": [
      "(?, 32, 32, 3)\n",
      "(?, 16, 16, 32)\n",
      "(?, 8, 8, 128)\n",
      "(?, 8192)\n",
      "(?, 1024)\n",
      "(?, 10)\n",
      "(?, 32, 32, 3)\n",
      "(?, 16, 16, 32)\n",
      "(?, 8, 8, 128)\n",
      "(?, 8192)\n",
      "(?, 1024)\n",
      "(?, 10)\n",
      "Neural Network Built!\n"
     ]
    }
   ],
   "source": [
    "def conv_net(x, keep_prob):\n",
    "    \"\"\"\n",
    "    Create a convolutional neural network model\n",
    "    : x: Placeholder tensor that holds image data.\n",
    "    : keep_prob: Placeholder tensor that hold dropout keep probability.\n",
    "    : return: Tensor that represents logits\n",
    "    \"\"\"\n",
    "    pool_ksize = (2, 2)     #fixed\n",
    "    pool_strides = (2, 2)  #fixed\n",
    "    \n",
    "    # TODO: Apply 1, 2, or 3 Convolution and Max Pool layers\n",
    "    #    Play around with different number of outputs, kernel size and stride\n",
    "    # Function Definition from Above:\n",
    "    \n",
    "    print(x.shape)\n",
    "\n",
    "    conv_num_outputs = 32\n",
    "    conv_ksize = (5, 5)\n",
    "    conv_strides = (1, 1)\n",
    "    conv2d_maxpool_layer1 = conv2d_maxpool(x, conv_num_outputs, conv_ksize, conv_strides, pool_ksize, pool_strides)\n",
    "    print(conv2d_maxpool_layer1.shape)\n",
    "\n",
    "    conv_num_outputs = 128\n",
    "    conv_ksize = (5, 5)\n",
    "    conv_strides = (1, 1)    \n",
    "    conv2d_maxpool_layer2 = conv2d_maxpool(conv2d_maxpool_layer1, conv_num_outputs, conv_ksize, conv_strides, pool_ksize, pool_strides)\n",
    "    print(conv2d_maxpool_layer2.shape)\n",
    "    \n",
    "    # TODO: Apply a Flatten Layer\n",
    "    # Function Definition from Above:\n",
    "    flattened_layer = flatten(conv2d_maxpool_layer2)\n",
    "    print(flattened_layer.shape)\n",
    "    \n",
    "\n",
    "    # TODO: Apply 1, 2, or 3 Fully Connected Layers\n",
    "    #    Play around with different number of outputs\n",
    "    # Function Definition from Above:\n",
    "    num_outputs = 1024\n",
    "    fully_conn_layer = fully_conn(flattened_layer, num_outputs)\n",
    "    fully_conn_layer = tf.nn.dropout(fully_conn_layer, keep_prob)\n",
    "    print(fully_conn_layer.shape)\n",
    "\n",
    "    # TODO: Apply an Output Layer\n",
    "    #    Set this to the number of classes\n",
    "    # Function Definition from Above:\n",
    "    output_layer = output(fully_conn_layer, 10)\n",
    "    print(output_layer.shape)\n",
    "    \n",
    "    \n",
    "    # TODO: return output\n",
    "    return output_layer\n",
    "\n",
    "\n",
    "\n",
    "\"\"\"\n",
    "DON'T MODIFY ANYTHING IN THIS CELL THAT IS BELOW THIS LINE\n",
    "\"\"\"\n",
    "\n",
    "##############################\n",
    "## Build the Neural Network ##\n",
    "##############################\n",
    "\n",
    "# Remove previous weights, bias, inputs, etc..\n",
    "tf.reset_default_graph()\n",
    "\n",
    "# Inputs\n",
    "x = neural_net_image_input((32, 32, 3))\n",
    "y = neural_net_label_input(10)\n",
    "keep_prob = neural_net_keep_prob_input()\n",
    "\n",
    "# Model\n",
    "logits = conv_net(x, keep_prob)\n",
    "\n",
    "# Name logits Tensor, so that is can be loaded from disk after training\n",
    "logits = tf.identity(logits, name='logits')\n",
    "\n",
    "# Loss and Optimizer\n",
    "cost = tf.reduce_mean(tf.nn.softmax_cross_entropy_with_logits(logits=logits, labels=y))\n",
    "optimizer = tf.train.AdamOptimizer().minimize(cost)\n",
    "\n",
    "# Accuracy\n",
    "correct_pred = tf.equal(tf.argmax(logits, 1), tf.argmax(y, 1))\n",
    "accuracy = tf.reduce_mean(tf.cast(correct_pred, tf.float32), name='accuracy')\n",
    "\n",
    "tests.test_conv_net(conv_net)"
   ]
  },
  {
   "cell_type": "markdown",
   "metadata": {
    "deletable": true,
    "editable": true
   },
   "source": [
    "## Train the Neural Network\n",
    "### Single Optimization\n",
    "Implement the function `train_neural_network` to do a single optimization.  The optimization should use `optimizer` to optimize in `session` with a `feed_dict` of the following:\n",
    "* `x` for image input\n",
    "* `y` for labels\n",
    "* `keep_prob` for keep probability for dropout\n",
    "\n",
    "This function will be called for each batch, so `tf.global_variables_initializer()` has already been called.\n",
    "\n",
    "Note: Nothing needs to be returned. This function is only optimizing the neural network."
   ]
  },
  {
   "cell_type": "code",
   "execution_count": 8,
   "metadata": {
    "collapsed": false,
    "deletable": true,
    "editable": true
   },
   "outputs": [
    {
     "name": "stdout",
     "output_type": "stream",
     "text": [
      "Tests Passed\n"
     ]
    }
   ],
   "source": [
    "def train_neural_network(session, optimizer, keep_probability, feature_batch, label_batch):\n",
    "    \"\"\"\n",
    "    Optimize the session on a batch of images and labels\n",
    "    : session: Current TensorFlow session\n",
    "    : optimizer: TensorFlow optimizer function\n",
    "    : keep_probability: keep probability\n",
    "    : feature_batch: Batch of Numpy image data\n",
    "    : label_batch: Batch of Numpy label data\n",
    "    \"\"\"\n",
    "    # TODO: Implement Function\n",
    "    session.run(optimizer, feed_dict={\n",
    "        x: feature_batch,\n",
    "        y: label_batch,\n",
    "        keep_prob: keep_probability})\n",
    "\n",
    "\n",
    "\"\"\"\n",
    "DON'T MODIFY ANYTHING IN THIS CELL THAT IS BELOW THIS LINE\n",
    "\"\"\"\n",
    "tests.test_train_nn(train_neural_network)"
   ]
  },
  {
   "cell_type": "markdown",
   "metadata": {
    "deletable": true,
    "editable": true
   },
   "source": [
    "### Show Stats\n",
    "Implement the function `print_stats` to print loss and validation accuracy.  Use the global variables `valid_features` and `valid_labels` to calculate validation accuracy.  Use a keep probability of `1.0` to calculate the loss and validation accuracy."
   ]
  },
  {
   "cell_type": "code",
   "execution_count": 9,
   "metadata": {
    "collapsed": false,
    "deletable": true,
    "editable": true
   },
   "outputs": [],
   "source": [
    "def print_stats(session, feature_batch, label_batch, cost, accuracy):\n",
    "    \"\"\"\n",
    "    Print information about loss and validation accuracy\n",
    "    : session: Current TensorFlow session\n",
    "    : feature_batch: Batch of Numpy image data\n",
    "    : label_batch: Batch of Numpy label data\n",
    "    : cost: TensorFlow cost function\n",
    "    : accuracy: TensorFlow accuracy function\n",
    "    \"\"\"\n",
    "    # TODO: Implement Function\n",
    "    #print(valid_features, valid_labels)\n",
    "    #print(\"print stats\", cost, accuracy)\n",
    "    \n",
    "    loss = session.run(cost, feed_dict = {x: feature_batch, y: label_batch, keep_prob: 1.0}) \n",
    "    acc = session.run(accuracy,feed_dict = {x: valid_features, y: valid_labels, keep_prob: 1.0})\n",
    "    \n",
    "    print('Loss: {:>10.4f} Validation Accuracy: {:.6f}'.format(loss, acc))"
   ]
  },
  {
   "cell_type": "markdown",
   "metadata": {
    "deletable": true,
    "editable": true
   },
   "source": [
    "### Hyperparameters\n",
    "Tune the following parameters:\n",
    "* Set `epochs` to the number of iterations until the network stops learning or start overfitting\n",
    "* Set `batch_size` to the highest number that your machine has memory for.  Most people set them to common sizes of memory:\n",
    " * 64\n",
    " * 128\n",
    " * 256\n",
    " * ...\n",
    "* Set `keep_probability` to the probability of keeping a node using dropout"
   ]
  },
  {
   "cell_type": "code",
   "execution_count": 12,
   "metadata": {
    "collapsed": true,
    "deletable": true,
    "editable": true
   },
   "outputs": [],
   "source": [
    "# TODO: Tune Parameters\n",
    "epochs = 64\n",
    "batch_size = 256\n",
    "keep_probability = 0.6"
   ]
  },
  {
   "cell_type": "markdown",
   "metadata": {
    "deletable": true,
    "editable": true
   },
   "source": [
    "### Train on a Single CIFAR-10 Batch\n",
    "Instead of training the neural network on all the CIFAR-10 batches of data, let's use a single batch. This should save time while you iterate on the model to get a better accuracy.  Once the final validation accuracy is 50% or greater, run the model on all the data in the next section."
   ]
  },
  {
   "cell_type": "code",
   "execution_count": 13,
   "metadata": {
    "collapsed": false,
    "deletable": true,
    "editable": true
   },
   "outputs": [
    {
     "name": "stdout",
     "output_type": "stream",
     "text": [
      "Checking the Training on a Single Batch...\n",
      "Epoch  1, CIFAR-10 Batch 1:  Loss:     2.2770 Validation Accuracy: 0.111800\n",
      "Epoch  2, CIFAR-10 Batch 1:  Loss:     2.2307 Validation Accuracy: 0.143800\n",
      "Epoch  3, CIFAR-10 Batch 1:  Loss:     2.1663 Validation Accuracy: 0.196200\n",
      "Epoch  4, CIFAR-10 Batch 1:  Loss:     2.0351 Validation Accuracy: 0.263600\n",
      "Epoch  5, CIFAR-10 Batch 1:  Loss:     1.8881 Validation Accuracy: 0.278200\n",
      "Epoch  6, CIFAR-10 Batch 1:  Loss:     1.7605 Validation Accuracy: 0.348200\n",
      "Epoch  7, CIFAR-10 Batch 1:  Loss:     1.6510 Validation Accuracy: 0.311000\n",
      "Epoch  8, CIFAR-10 Batch 1:  Loss:     1.5764 Validation Accuracy: 0.356400\n",
      "Epoch  9, CIFAR-10 Batch 1:  Loss:     1.3890 Validation Accuracy: 0.375000\n",
      "Epoch 10, CIFAR-10 Batch 1:  Loss:     1.2993 Validation Accuracy: 0.381400\n",
      "Epoch 11, CIFAR-10 Batch 1:  Loss:     1.1769 Validation Accuracy: 0.404600\n",
      "Epoch 12, CIFAR-10 Batch 1:  Loss:     1.1485 Validation Accuracy: 0.424400\n",
      "Epoch 13, CIFAR-10 Batch 1:  Loss:     1.0261 Validation Accuracy: 0.427600\n",
      "Epoch 14, CIFAR-10 Batch 1:  Loss:     0.9054 Validation Accuracy: 0.409600\n",
      "Epoch 15, CIFAR-10 Batch 1:  Loss:     0.8012 Validation Accuracy: 0.415200\n",
      "Epoch 16, CIFAR-10 Batch 1:  Loss:     0.7519 Validation Accuracy: 0.440800\n",
      "Epoch 17, CIFAR-10 Batch 1:  Loss:     0.6836 Validation Accuracy: 0.416200\n",
      "Epoch 18, CIFAR-10 Batch 1:  Loss:     0.5975 Validation Accuracy: 0.433800\n",
      "Epoch 19, CIFAR-10 Batch 1:  Loss:     0.5531 Validation Accuracy: 0.420400\n",
      "Epoch 20, CIFAR-10 Batch 1:  Loss:     0.5149 Validation Accuracy: 0.447800\n",
      "Epoch 21, CIFAR-10 Batch 1:  Loss:     0.5256 Validation Accuracy: 0.427600\n",
      "Epoch 22, CIFAR-10 Batch 1:  Loss:     0.4395 Validation Accuracy: 0.459200\n",
      "Epoch 23, CIFAR-10 Batch 1:  Loss:     0.3699 Validation Accuracy: 0.463800\n",
      "Epoch 24, CIFAR-10 Batch 1:  Loss:     0.3268 Validation Accuracy: 0.476600\n",
      "Epoch 25, CIFAR-10 Batch 1:  Loss:     0.3239 Validation Accuracy: 0.460600\n",
      "Epoch 26, CIFAR-10 Batch 1:  Loss:     0.2763 Validation Accuracy: 0.474200\n",
      "Epoch 27, CIFAR-10 Batch 1:  Loss:     0.2442 Validation Accuracy: 0.491000\n",
      "Epoch 28, CIFAR-10 Batch 1:  Loss:     0.2204 Validation Accuracy: 0.491400\n",
      "Epoch 29, CIFAR-10 Batch 1:  Loss:     0.2146 Validation Accuracy: 0.488000\n",
      "Epoch 30, CIFAR-10 Batch 1:  Loss:     0.1844 Validation Accuracy: 0.489200\n",
      "Epoch 31, CIFAR-10 Batch 1:  Loss:     0.1753 Validation Accuracy: 0.478800\n",
      "Epoch 32, CIFAR-10 Batch 1:  Loss:     0.1275 Validation Accuracy: 0.491000\n",
      "Epoch 33, CIFAR-10 Batch 1:  Loss:     0.1167 Validation Accuracy: 0.483600\n",
      "Epoch 34, CIFAR-10 Batch 1:  Loss:     0.1175 Validation Accuracy: 0.475400\n",
      "Epoch 35, CIFAR-10 Batch 1:  Loss:     0.0952 Validation Accuracy: 0.476000\n",
      "Epoch 36, CIFAR-10 Batch 1:  Loss:     0.0985 Validation Accuracy: 0.472800\n",
      "Epoch 37, CIFAR-10 Batch 1:  Loss:     0.1137 Validation Accuracy: 0.454800\n",
      "Epoch 38, CIFAR-10 Batch 1:  Loss:     0.0828 Validation Accuracy: 0.463800\n",
      "Epoch 39, CIFAR-10 Batch 1:  Loss:     0.0953 Validation Accuracy: 0.446200\n",
      "Epoch 40, CIFAR-10 Batch 1:  Loss:     0.0568 Validation Accuracy: 0.485400\n",
      "Epoch 41, CIFAR-10 Batch 1:  Loss:     0.0499 Validation Accuracy: 0.495600\n",
      "Epoch 42, CIFAR-10 Batch 1:  Loss:     0.0511 Validation Accuracy: 0.484400\n",
      "Epoch 43, CIFAR-10 Batch 1:  Loss:     0.0472 Validation Accuracy: 0.462200\n",
      "Epoch 44, CIFAR-10 Batch 1:  Loss:     0.0378 Validation Accuracy: 0.488000\n",
      "Epoch 45, CIFAR-10 Batch 1:  Loss:     0.0370 Validation Accuracy: 0.490800\n",
      "Epoch 46, CIFAR-10 Batch 1:  Loss:     0.0360 Validation Accuracy: 0.479800\n",
      "Epoch 47, CIFAR-10 Batch 1:  Loss:     0.0392 Validation Accuracy: 0.481000\n",
      "Epoch 48, CIFAR-10 Batch 1:  Loss:     0.0389 Validation Accuracy: 0.466400\n",
      "Epoch 49, CIFAR-10 Batch 1:  Loss:     0.0342 Validation Accuracy: 0.476800\n",
      "Epoch 50, CIFAR-10 Batch 1:  Loss:     0.0526 Validation Accuracy: 0.461200\n",
      "Epoch 51, CIFAR-10 Batch 1:  Loss:     0.0263 Validation Accuracy: 0.484000\n",
      "Epoch 52, CIFAR-10 Batch 1:  Loss:     0.0163 Validation Accuracy: 0.487200\n",
      "Epoch 53, CIFAR-10 Batch 1:  Loss:     0.0298 Validation Accuracy: 0.495200\n",
      "Epoch 54, CIFAR-10 Batch 1:  Loss:     0.0195 Validation Accuracy: 0.483000\n",
      "Epoch 55, CIFAR-10 Batch 1:  Loss:     0.0171 Validation Accuracy: 0.470000\n",
      "Epoch 56, CIFAR-10 Batch 1:  Loss:     0.0152 Validation Accuracy: 0.482400\n",
      "Epoch 57, CIFAR-10 Batch 1:  Loss:     0.0156 Validation Accuracy: 0.458400\n",
      "Epoch 58, CIFAR-10 Batch 1:  Loss:     0.0122 Validation Accuracy: 0.477200\n",
      "Epoch 59, CIFAR-10 Batch 1:  Loss:     0.0078 Validation Accuracy: 0.469400\n",
      "Epoch 60, CIFAR-10 Batch 1:  Loss:     0.0097 Validation Accuracy: 0.463000\n",
      "Epoch 61, CIFAR-10 Batch 1:  Loss:     0.0105 Validation Accuracy: 0.457800\n",
      "Epoch 62, CIFAR-10 Batch 1:  Loss:     0.0127 Validation Accuracy: 0.458000\n",
      "Epoch 63, CIFAR-10 Batch 1:  Loss:     0.0051 Validation Accuracy: 0.466000\n",
      "Epoch 64, CIFAR-10 Batch 1:  Loss:     0.0068 Validation Accuracy: 0.466600\n"
     ]
    }
   ],
   "source": [
    "\"\"\"\n",
    "DON'T MODIFY ANYTHING IN THIS CELL\n",
    "\"\"\"\n",
    "print('Checking the Training on a Single Batch...')\n",
    "with tf.Session() as sess:\n",
    "    # Initializing the variables\n",
    "    sess.run(tf.global_variables_initializer())\n",
    "    \n",
    "    # Training cycle\n",
    "    for epoch in range(epochs):\n",
    "        batch_i = 1\n",
    "        for batch_features, batch_labels in helper.load_preprocess_training_batch(batch_i, batch_size):\n",
    "            train_neural_network(sess, optimizer, keep_probability, batch_features, batch_labels)\n",
    "        print('Epoch {:>2}, CIFAR-10 Batch {}:  '.format(epoch + 1, batch_i), end='')\n",
    "        print_stats(sess, batch_features, batch_labels, cost, accuracy)"
   ]
  },
  {
   "cell_type": "markdown",
   "metadata": {
    "deletable": true,
    "editable": true
   },
   "source": [
    "### Fully Train the Model\n",
    "Now that you got a good accuracy with a single CIFAR-10 batch, try it with all five batches."
   ]
  },
  {
   "cell_type": "code",
   "execution_count": 14,
   "metadata": {
    "collapsed": false,
    "deletable": true,
    "editable": true
   },
   "outputs": [
    {
     "name": "stdout",
     "output_type": "stream",
     "text": [
      "Training...\n",
      "Epoch  1, CIFAR-10 Batch 1:  Loss:     2.2710 Validation Accuracy: 0.145000\n",
      "Epoch  1, CIFAR-10 Batch 2:  Loss:     2.1496 Validation Accuracy: 0.229200\n",
      "Epoch  1, CIFAR-10 Batch 3:  Loss:     2.0174 Validation Accuracy: 0.236000\n",
      "Epoch  1, CIFAR-10 Batch 4:  Loss:     1.7944 Validation Accuracy: 0.291000\n",
      "Epoch  1, CIFAR-10 Batch 5:  Loss:     2.0584 Validation Accuracy: 0.259000\n",
      "Epoch  2, CIFAR-10 Batch 1:  Loss:     1.9881 Validation Accuracy: 0.315800\n",
      "Epoch  2, CIFAR-10 Batch 2:  Loss:     1.7667 Validation Accuracy: 0.339200\n",
      "Epoch  2, CIFAR-10 Batch 3:  Loss:     1.6343 Validation Accuracy: 0.374400\n",
      "Epoch  2, CIFAR-10 Batch 4:  Loss:     1.6045 Validation Accuracy: 0.402200\n",
      "Epoch  2, CIFAR-10 Batch 5:  Loss:     1.9836 Validation Accuracy: 0.299000\n",
      "Epoch  3, CIFAR-10 Batch 1:  Loss:     1.7819 Validation Accuracy: 0.375000\n",
      "Epoch  3, CIFAR-10 Batch 2:  Loss:     1.5505 Validation Accuracy: 0.433200\n",
      "Epoch  3, CIFAR-10 Batch 3:  Loss:     1.3832 Validation Accuracy: 0.408600\n",
      "Epoch  3, CIFAR-10 Batch 4:  Loss:     1.3453 Validation Accuracy: 0.447800\n",
      "Epoch  3, CIFAR-10 Batch 5:  Loss:     1.4655 Validation Accuracy: 0.416000\n",
      "Epoch  4, CIFAR-10 Batch 1:  Loss:     1.5748 Validation Accuracy: 0.429600\n",
      "Epoch  4, CIFAR-10 Batch 2:  Loss:     1.2824 Validation Accuracy: 0.469600\n",
      "Epoch  4, CIFAR-10 Batch 3:  Loss:     1.2614 Validation Accuracy: 0.422600\n",
      "Epoch  4, CIFAR-10 Batch 4:  Loss:     1.1915 Validation Accuracy: 0.491600\n",
      "Epoch  4, CIFAR-10 Batch 5:  Loss:     1.2807 Validation Accuracy: 0.463800\n",
      "Epoch  5, CIFAR-10 Batch 1:  Loss:     1.3486 Validation Accuracy: 0.462400\n",
      "Epoch  5, CIFAR-10 Batch 2:  Loss:     1.1070 Validation Accuracy: 0.488000\n",
      "Epoch  5, CIFAR-10 Batch 3:  Loss:     1.0642 Validation Accuracy: 0.455600\n",
      "Epoch  5, CIFAR-10 Batch 4:  Loss:     1.0254 Validation Accuracy: 0.509400\n",
      "Epoch  5, CIFAR-10 Batch 5:  Loss:     1.1546 Validation Accuracy: 0.491800\n",
      "Epoch  6, CIFAR-10 Batch 1:  Loss:     1.1936 Validation Accuracy: 0.478400\n",
      "Epoch  6, CIFAR-10 Batch 2:  Loss:     1.0111 Validation Accuracy: 0.500600\n",
      "Epoch  6, CIFAR-10 Batch 3:  Loss:     0.8832 Validation Accuracy: 0.501400\n",
      "Epoch  6, CIFAR-10 Batch 4:  Loss:     0.8880 Validation Accuracy: 0.526400\n",
      "Epoch  6, CIFAR-10 Batch 5:  Loss:     1.0668 Validation Accuracy: 0.502200\n",
      "Epoch  7, CIFAR-10 Batch 1:  Loss:     1.0471 Validation Accuracy: 0.508800\n",
      "Epoch  7, CIFAR-10 Batch 2:  Loss:     0.8756 Validation Accuracy: 0.511000\n",
      "Epoch  7, CIFAR-10 Batch 3:  Loss:     0.7883 Validation Accuracy: 0.520200\n",
      "Epoch  7, CIFAR-10 Batch 4:  Loss:     0.7748 Validation Accuracy: 0.536000\n",
      "Epoch  7, CIFAR-10 Batch 5:  Loss:     0.9470 Validation Accuracy: 0.496200\n",
      "Epoch  8, CIFAR-10 Batch 1:  Loss:     0.8929 Validation Accuracy: 0.511000\n",
      "Epoch  8, CIFAR-10 Batch 2:  Loss:     0.7682 Validation Accuracy: 0.518400\n",
      "Epoch  8, CIFAR-10 Batch 3:  Loss:     0.6611 Validation Accuracy: 0.523800\n",
      "Epoch  8, CIFAR-10 Batch 4:  Loss:     0.6575 Validation Accuracy: 0.561000\n",
      "Epoch  8, CIFAR-10 Batch 5:  Loss:     0.8080 Validation Accuracy: 0.544000\n",
      "Epoch  9, CIFAR-10 Batch 1:  Loss:     0.7927 Validation Accuracy: 0.526200\n",
      "Epoch  9, CIFAR-10 Batch 2:  Loss:     0.6767 Validation Accuracy: 0.524000\n",
      "Epoch  9, CIFAR-10 Batch 3:  Loss:     0.6026 Validation Accuracy: 0.523200\n",
      "Epoch  9, CIFAR-10 Batch 4:  Loss:     0.5853 Validation Accuracy: 0.569200\n",
      "Epoch  9, CIFAR-10 Batch 5:  Loss:     0.6757 Validation Accuracy: 0.558800\n",
      "Epoch 10, CIFAR-10 Batch 1:  Loss:     0.6909 Validation Accuracy: 0.526400\n",
      "Epoch 10, CIFAR-10 Batch 2:  Loss:     0.5465 Validation Accuracy: 0.528000\n",
      "Epoch 10, CIFAR-10 Batch 3:  Loss:     0.5092 Validation Accuracy: 0.528800\n",
      "Epoch 10, CIFAR-10 Batch 4:  Loss:     0.4886 Validation Accuracy: 0.567200\n",
      "Epoch 10, CIFAR-10 Batch 5:  Loss:     0.6040 Validation Accuracy: 0.558200\n",
      "Epoch 11, CIFAR-10 Batch 1:  Loss:     0.6289 Validation Accuracy: 0.542800\n",
      "Epoch 11, CIFAR-10 Batch 2:  Loss:     0.4573 Validation Accuracy: 0.544000\n",
      "Epoch 11, CIFAR-10 Batch 3:  Loss:     0.4353 Validation Accuracy: 0.546600\n",
      "Epoch 11, CIFAR-10 Batch 4:  Loss:     0.4467 Validation Accuracy: 0.582600\n",
      "Epoch 11, CIFAR-10 Batch 5:  Loss:     0.5234 Validation Accuracy: 0.556000\n",
      "Epoch 12, CIFAR-10 Batch 1:  Loss:     0.4983 Validation Accuracy: 0.559800\n",
      "Epoch 12, CIFAR-10 Batch 2:  Loss:     0.4072 Validation Accuracy: 0.534600\n",
      "Epoch 12, CIFAR-10 Batch 3:  Loss:     0.3787 Validation Accuracy: 0.556200\n",
      "Epoch 12, CIFAR-10 Batch 4:  Loss:     0.4019 Validation Accuracy: 0.554600\n",
      "Epoch 12, CIFAR-10 Batch 5:  Loss:     0.4467 Validation Accuracy: 0.568600\n",
      "Epoch 13, CIFAR-10 Batch 1:  Loss:     0.4180 Validation Accuracy: 0.556600\n",
      "Epoch 13, CIFAR-10 Batch 2:  Loss:     0.3330 Validation Accuracy: 0.551600\n",
      "Epoch 13, CIFAR-10 Batch 3:  Loss:     0.3485 Validation Accuracy: 0.562400\n",
      "Epoch 13, CIFAR-10 Batch 4:  Loss:     0.3013 Validation Accuracy: 0.574800\n",
      "Epoch 13, CIFAR-10 Batch 5:  Loss:     0.3463 Validation Accuracy: 0.589800\n",
      "Epoch 14, CIFAR-10 Batch 1:  Loss:     0.3927 Validation Accuracy: 0.575800\n",
      "Epoch 14, CIFAR-10 Batch 2:  Loss:     0.2803 Validation Accuracy: 0.574600\n",
      "Epoch 14, CIFAR-10 Batch 3:  Loss:     0.2666 Validation Accuracy: 0.573400\n",
      "Epoch 14, CIFAR-10 Batch 4:  Loss:     0.2590 Validation Accuracy: 0.588200\n",
      "Epoch 14, CIFAR-10 Batch 5:  Loss:     0.2968 Validation Accuracy: 0.573600\n",
      "Epoch 15, CIFAR-10 Batch 1:  Loss:     0.3087 Validation Accuracy: 0.570000\n",
      "Epoch 15, CIFAR-10 Batch 2:  Loss:     0.2332 Validation Accuracy: 0.572400\n",
      "Epoch 15, CIFAR-10 Batch 3:  Loss:     0.2362 Validation Accuracy: 0.583400\n",
      "Epoch 15, CIFAR-10 Batch 4:  Loss:     0.2256 Validation Accuracy: 0.587400\n",
      "Epoch 15, CIFAR-10 Batch 5:  Loss:     0.2711 Validation Accuracy: 0.602200\n",
      "Epoch 16, CIFAR-10 Batch 1:  Loss:     0.2715 Validation Accuracy: 0.584400\n",
      "Epoch 16, CIFAR-10 Batch 2:  Loss:     0.1925 Validation Accuracy: 0.551200\n",
      "Epoch 16, CIFAR-10 Batch 3:  Loss:     0.2042 Validation Accuracy: 0.572200\n",
      "Epoch 16, CIFAR-10 Batch 4:  Loss:     0.2090 Validation Accuracy: 0.591800\n",
      "Epoch 16, CIFAR-10 Batch 5:  Loss:     0.2257 Validation Accuracy: 0.588200\n",
      "Epoch 17, CIFAR-10 Batch 1:  Loss:     0.2167 Validation Accuracy: 0.557000\n",
      "Epoch 17, CIFAR-10 Batch 2:  Loss:     0.1754 Validation Accuracy: 0.570400\n",
      "Epoch 17, CIFAR-10 Batch 3:  Loss:     0.1960 Validation Accuracy: 0.560400\n",
      "Epoch 17, CIFAR-10 Batch 4:  Loss:     0.1556 Validation Accuracy: 0.591600\n",
      "Epoch 17, CIFAR-10 Batch 5:  Loss:     0.1713 Validation Accuracy: 0.585400\n",
      "Epoch 18, CIFAR-10 Batch 1:  Loss:     0.1756 Validation Accuracy: 0.572000\n",
      "Epoch 18, CIFAR-10 Batch 2:  Loss:     0.1405 Validation Accuracy: 0.585600\n",
      "Epoch 18, CIFAR-10 Batch 3:  Loss:     0.1352 Validation Accuracy: 0.576400\n",
      "Epoch 18, CIFAR-10 Batch 4:  Loss:     0.1234 Validation Accuracy: 0.591400\n",
      "Epoch 18, CIFAR-10 Batch 5:  Loss:     0.1423 Validation Accuracy: 0.588600\n",
      "Epoch 19, CIFAR-10 Batch 1:  Loss:     0.1609 Validation Accuracy: 0.585200\n",
      "Epoch 19, CIFAR-10 Batch 2:  Loss:     0.1316 Validation Accuracy: 0.563800\n",
      "Epoch 19, CIFAR-10 Batch 3:  Loss:     0.1607 Validation Accuracy: 0.577400\n",
      "Epoch 19, CIFAR-10 Batch 4:  Loss:     0.1169 Validation Accuracy: 0.603600\n",
      "Epoch 19, CIFAR-10 Batch 5:  Loss:     0.1273 Validation Accuracy: 0.584400\n",
      "Epoch 20, CIFAR-10 Batch 1:  Loss:     0.1306 Validation Accuracy: 0.583200\n",
      "Epoch 20, CIFAR-10 Batch 2:  Loss:     0.1023 Validation Accuracy: 0.577400\n",
      "Epoch 20, CIFAR-10 Batch 3:  Loss:     0.1298 Validation Accuracy: 0.598800\n",
      "Epoch 20, CIFAR-10 Batch 4:  Loss:     0.1089 Validation Accuracy: 0.609400\n",
      "Epoch 20, CIFAR-10 Batch 5:  Loss:     0.1115 Validation Accuracy: 0.591200\n",
      "Epoch 21, CIFAR-10 Batch 1:  Loss:     0.1175 Validation Accuracy: 0.593600\n",
      "Epoch 21, CIFAR-10 Batch 2:  Loss:     0.0833 Validation Accuracy: 0.586000\n",
      "Epoch 21, CIFAR-10 Batch 3:  Loss:     0.1131 Validation Accuracy: 0.574800\n",
      "Epoch 21, CIFAR-10 Batch 4:  Loss:     0.0848 Validation Accuracy: 0.589600\n",
      "Epoch 21, CIFAR-10 Batch 5:  Loss:     0.1050 Validation Accuracy: 0.574200\n",
      "Epoch 22, CIFAR-10 Batch 1:  Loss:     0.0736 Validation Accuracy: 0.600200\n",
      "Epoch 22, CIFAR-10 Batch 2:  Loss:     0.0541 Validation Accuracy: 0.582400\n",
      "Epoch 22, CIFAR-10 Batch 3:  Loss:     0.0821 Validation Accuracy: 0.610600\n",
      "Epoch 22, CIFAR-10 Batch 4:  Loss:     0.0616 Validation Accuracy: 0.605000\n",
      "Epoch 22, CIFAR-10 Batch 5:  Loss:     0.0860 Validation Accuracy: 0.568400\n",
      "Epoch 23, CIFAR-10 Batch 1:  Loss:     0.0696 Validation Accuracy: 0.594600\n",
      "Epoch 23, CIFAR-10 Batch 2:  Loss:     0.0436 Validation Accuracy: 0.603800\n",
      "Epoch 23, CIFAR-10 Batch 3:  Loss:     0.0604 Validation Accuracy: 0.595400\n",
      "Epoch 23, CIFAR-10 Batch 4:  Loss:     0.0600 Validation Accuracy: 0.600400\n",
      "Epoch 23, CIFAR-10 Batch 5:  Loss:     0.0786 Validation Accuracy: 0.596200\n",
      "Epoch 24, CIFAR-10 Batch 1:  Loss:     0.0614 Validation Accuracy: 0.610400\n",
      "Epoch 24, CIFAR-10 Batch 2:  Loss:     0.0485 Validation Accuracy: 0.589400\n",
      "Epoch 24, CIFAR-10 Batch 3:  Loss:     0.0532 Validation Accuracy: 0.608400\n",
      "Epoch 24, CIFAR-10 Batch 4:  Loss:     0.0575 Validation Accuracy: 0.595000\n",
      "Epoch 24, CIFAR-10 Batch 5:  Loss:     0.0586 Validation Accuracy: 0.596600\n",
      "Epoch 25, CIFAR-10 Batch 1:  Loss:     0.0474 Validation Accuracy: 0.615800\n",
      "Epoch 25, CIFAR-10 Batch 2:  Loss:     0.0281 Validation Accuracy: 0.595000\n",
      "Epoch 25, CIFAR-10 Batch 3:  Loss:     0.0508 Validation Accuracy: 0.610800\n",
      "Epoch 25, CIFAR-10 Batch 4:  Loss:     0.0525 Validation Accuracy: 0.590600\n",
      "Epoch 25, CIFAR-10 Batch 5:  Loss:     0.0701 Validation Accuracy: 0.611800\n",
      "Epoch 26, CIFAR-10 Batch 1:  Loss:     0.0441 Validation Accuracy: 0.602800\n",
      "Epoch 26, CIFAR-10 Batch 2:  Loss:     0.0299 Validation Accuracy: 0.592400\n",
      "Epoch 26, CIFAR-10 Batch 3:  Loss:     0.0359 Validation Accuracy: 0.612600\n",
      "Epoch 26, CIFAR-10 Batch 4:  Loss:     0.0485 Validation Accuracy: 0.599600\n",
      "Epoch 26, CIFAR-10 Batch 5:  Loss:     0.0452 Validation Accuracy: 0.612200\n",
      "Epoch 27, CIFAR-10 Batch 1:  Loss:     0.0499 Validation Accuracy: 0.626600\n",
      "Epoch 27, CIFAR-10 Batch 2:  Loss:     0.0310 Validation Accuracy: 0.597000\n",
      "Epoch 27, CIFAR-10 Batch 3:  Loss:     0.0411 Validation Accuracy: 0.593000\n",
      "Epoch 27, CIFAR-10 Batch 4:  Loss:     0.0454 Validation Accuracy: 0.583000\n",
      "Epoch 27, CIFAR-10 Batch 5:  Loss:     0.0542 Validation Accuracy: 0.602200\n",
      "Epoch 28, CIFAR-10 Batch 1:  Loss:     0.0277 Validation Accuracy: 0.606200\n",
      "Epoch 28, CIFAR-10 Batch 2:  Loss:     0.0262 Validation Accuracy: 0.593600\n",
      "Epoch 28, CIFAR-10 Batch 3:  Loss:     0.0391 Validation Accuracy: 0.610200\n",
      "Epoch 28, CIFAR-10 Batch 4:  Loss:     0.0251 Validation Accuracy: 0.591600\n",
      "Epoch 28, CIFAR-10 Batch 5:  Loss:     0.0511 Validation Accuracy: 0.578000\n",
      "Epoch 29, CIFAR-10 Batch 1:  Loss:     0.0306 Validation Accuracy: 0.610400\n",
      "Epoch 29, CIFAR-10 Batch 2:  Loss:     0.0189 Validation Accuracy: 0.587800\n",
      "Epoch 29, CIFAR-10 Batch 3:  Loss:     0.0370 Validation Accuracy: 0.600600\n",
      "Epoch 29, CIFAR-10 Batch 4:  Loss:     0.0211 Validation Accuracy: 0.596200\n",
      "Epoch 29, CIFAR-10 Batch 5:  Loss:     0.0317 Validation Accuracy: 0.608800\n",
      "Epoch 30, CIFAR-10 Batch 1:  Loss:     0.0281 Validation Accuracy: 0.621000\n",
      "Epoch 30, CIFAR-10 Batch 2:  Loss:     0.0193 Validation Accuracy: 0.604800\n",
      "Epoch 30, CIFAR-10 Batch 3:  Loss:     0.0400 Validation Accuracy: 0.601200\n",
      "Epoch 30, CIFAR-10 Batch 4:  Loss:     0.0350 Validation Accuracy: 0.598200\n",
      "Epoch 30, CIFAR-10 Batch 5:  Loss:     0.0319 Validation Accuracy: 0.588800\n",
      "Epoch 31, CIFAR-10 Batch 1:  Loss:     0.0243 Validation Accuracy: 0.621000\n",
      "Epoch 31, CIFAR-10 Batch 2:  Loss:     0.0258 Validation Accuracy: 0.604600\n",
      "Epoch 31, CIFAR-10 Batch 3:  Loss:     0.0292 Validation Accuracy: 0.600400\n",
      "Epoch 31, CIFAR-10 Batch 4:  Loss:     0.0216 Validation Accuracy: 0.594000\n",
      "Epoch 31, CIFAR-10 Batch 5:  Loss:     0.0228 Validation Accuracy: 0.603800\n",
      "Epoch 32, CIFAR-10 Batch 1:  Loss:     0.0249 Validation Accuracy: 0.623800\n",
      "Epoch 32, CIFAR-10 Batch 2:  Loss:     0.0286 Validation Accuracy: 0.615400\n",
      "Epoch 32, CIFAR-10 Batch 3:  Loss:     0.0295 Validation Accuracy: 0.597200\n",
      "Epoch 32, CIFAR-10 Batch 4:  Loss:     0.0172 Validation Accuracy: 0.601800\n",
      "Epoch 32, CIFAR-10 Batch 5:  Loss:     0.0307 Validation Accuracy: 0.597400\n",
      "Epoch 33, CIFAR-10 Batch 1:  Loss:     0.0155 Validation Accuracy: 0.609200\n",
      "Epoch 33, CIFAR-10 Batch 2:  Loss:     0.0146 Validation Accuracy: 0.623000\n",
      "Epoch 33, CIFAR-10 Batch 3:  Loss:     0.0214 Validation Accuracy: 0.604400\n",
      "Epoch 33, CIFAR-10 Batch 4:  Loss:     0.0116 Validation Accuracy: 0.611400\n",
      "Epoch 33, CIFAR-10 Batch 5:  Loss:     0.0169 Validation Accuracy: 0.617400\n",
      "Epoch 34, CIFAR-10 Batch 1:  Loss:     0.0147 Validation Accuracy: 0.611000\n",
      "Epoch 34, CIFAR-10 Batch 2:  Loss:     0.0197 Validation Accuracy: 0.618800\n",
      "Epoch 34, CIFAR-10 Batch 3:  Loss:     0.0215 Validation Accuracy: 0.611600\n",
      "Epoch 34, CIFAR-10 Batch 4:  Loss:     0.0096 Validation Accuracy: 0.607400\n",
      "Epoch 34, CIFAR-10 Batch 5:  Loss:     0.0109 Validation Accuracy: 0.600200\n",
      "Epoch 35, CIFAR-10 Batch 1:  Loss:     0.0095 Validation Accuracy: 0.604800\n",
      "Epoch 35, CIFAR-10 Batch 2:  Loss:     0.0120 Validation Accuracy: 0.620600\n",
      "Epoch 35, CIFAR-10 Batch 3:  Loss:     0.0247 Validation Accuracy: 0.620600\n",
      "Epoch 35, CIFAR-10 Batch 4:  Loss:     0.0093 Validation Accuracy: 0.601600\n",
      "Epoch 35, CIFAR-10 Batch 5:  Loss:     0.0108 Validation Accuracy: 0.613200\n",
      "Epoch 36, CIFAR-10 Batch 1:  Loss:     0.0131 Validation Accuracy: 0.611200\n",
      "Epoch 36, CIFAR-10 Batch 2:  Loss:     0.0108 Validation Accuracy: 0.618000\n",
      "Epoch 36, CIFAR-10 Batch 3:  Loss:     0.0118 Validation Accuracy: 0.625000\n",
      "Epoch 36, CIFAR-10 Batch 4:  Loss:     0.0111 Validation Accuracy: 0.607800\n",
      "Epoch 36, CIFAR-10 Batch 5:  Loss:     0.0093 Validation Accuracy: 0.605000\n",
      "Epoch 37, CIFAR-10 Batch 1:  Loss:     0.0171 Validation Accuracy: 0.598000\n",
      "Epoch 37, CIFAR-10 Batch 2:  Loss:     0.0076 Validation Accuracy: 0.621800\n",
      "Epoch 37, CIFAR-10 Batch 3:  Loss:     0.0142 Validation Accuracy: 0.623400\n",
      "Epoch 37, CIFAR-10 Batch 4:  Loss:     0.0185 Validation Accuracy: 0.606800\n",
      "Epoch 37, CIFAR-10 Batch 5:  Loss:     0.0073 Validation Accuracy: 0.602000\n",
      "Epoch 38, CIFAR-10 Batch 1:  Loss:     0.0109 Validation Accuracy: 0.598400\n",
      "Epoch 38, CIFAR-10 Batch 2:  Loss:     0.0075 Validation Accuracy: 0.626000\n",
      "Epoch 38, CIFAR-10 Batch 3:  Loss:     0.0106 Validation Accuracy: 0.621800\n",
      "Epoch 38, CIFAR-10 Batch 4:  Loss:     0.0119 Validation Accuracy: 0.624800\n",
      "Epoch 38, CIFAR-10 Batch 5:  Loss:     0.0077 Validation Accuracy: 0.601000\n",
      "Epoch 39, CIFAR-10 Batch 1:  Loss:     0.0067 Validation Accuracy: 0.608200\n",
      "Epoch 39, CIFAR-10 Batch 2:  Loss:     0.0045 Validation Accuracy: 0.616400\n",
      "Epoch 39, CIFAR-10 Batch 3:  Loss:     0.0210 Validation Accuracy: 0.611000\n",
      "Epoch 39, CIFAR-10 Batch 4:  Loss:     0.0177 Validation Accuracy: 0.614800\n",
      "Epoch 39, CIFAR-10 Batch 5:  Loss:     0.0158 Validation Accuracy: 0.620600\n",
      "Epoch 40, CIFAR-10 Batch 1:  Loss:     0.0129 Validation Accuracy: 0.588200\n",
      "Epoch 40, CIFAR-10 Batch 2:  Loss:     0.0122 Validation Accuracy: 0.631800\n",
      "Epoch 40, CIFAR-10 Batch 3:  Loss:     0.0108 Validation Accuracy: 0.614200\n",
      "Epoch 40, CIFAR-10 Batch 4:  Loss:     0.0058 Validation Accuracy: 0.614600\n",
      "Epoch 40, CIFAR-10 Batch 5:  Loss:     0.0075 Validation Accuracy: 0.606800\n",
      "Epoch 41, CIFAR-10 Batch 1:  Loss:     0.0050 Validation Accuracy: 0.588800\n",
      "Epoch 41, CIFAR-10 Batch 2:  Loss:     0.0040 Validation Accuracy: 0.617600\n",
      "Epoch 41, CIFAR-10 Batch 3:  Loss:     0.0105 Validation Accuracy: 0.599000\n",
      "Epoch 41, CIFAR-10 Batch 4:  Loss:     0.0138 Validation Accuracy: 0.610000\n",
      "Epoch 41, CIFAR-10 Batch 5:  Loss:     0.0066 Validation Accuracy: 0.613400\n",
      "Epoch 42, CIFAR-10 Batch 1:  Loss:     0.0063 Validation Accuracy: 0.597400\n",
      "Epoch 42, CIFAR-10 Batch 2:  Loss:     0.0035 Validation Accuracy: 0.612200\n",
      "Epoch 42, CIFAR-10 Batch 3:  Loss:     0.0072 Validation Accuracy: 0.616000\n",
      "Epoch 42, CIFAR-10 Batch 4:  Loss:     0.0044 Validation Accuracy: 0.614200\n",
      "Epoch 42, CIFAR-10 Batch 5:  Loss:     0.0063 Validation Accuracy: 0.609800\n",
      "Epoch 43, CIFAR-10 Batch 1:  Loss:     0.0071 Validation Accuracy: 0.610400\n",
      "Epoch 43, CIFAR-10 Batch 2:  Loss:     0.0043 Validation Accuracy: 0.619600\n",
      "Epoch 43, CIFAR-10 Batch 3:  Loss:     0.0032 Validation Accuracy: 0.610800\n",
      "Epoch 43, CIFAR-10 Batch 4:  Loss:     0.0077 Validation Accuracy: 0.621600\n",
      "Epoch 43, CIFAR-10 Batch 5:  Loss:     0.0055 Validation Accuracy: 0.606000\n",
      "Epoch 44, CIFAR-10 Batch 1:  Loss:     0.0084 Validation Accuracy: 0.602800\n",
      "Epoch 44, CIFAR-10 Batch 2:  Loss:     0.0060 Validation Accuracy: 0.607400\n",
      "Epoch 44, CIFAR-10 Batch 3:  Loss:     0.0024 Validation Accuracy: 0.605800\n",
      "Epoch 44, CIFAR-10 Batch 4:  Loss:     0.0057 Validation Accuracy: 0.623200\n",
      "Epoch 44, CIFAR-10 Batch 5:  Loss:     0.0059 Validation Accuracy: 0.611800\n",
      "Epoch 45, CIFAR-10 Batch 1:  Loss:     0.0054 Validation Accuracy: 0.601200\n",
      "Epoch 45, CIFAR-10 Batch 2:  Loss:     0.0037 Validation Accuracy: 0.617400\n",
      "Epoch 45, CIFAR-10 Batch 3:  Loss:     0.0096 Validation Accuracy: 0.620000\n",
      "Epoch 45, CIFAR-10 Batch 4:  Loss:     0.0057 Validation Accuracy: 0.622800\n",
      "Epoch 45, CIFAR-10 Batch 5:  Loss:     0.0028 Validation Accuracy: 0.597200\n",
      "Epoch 46, CIFAR-10 Batch 1:  Loss:     0.0050 Validation Accuracy: 0.612200\n",
      "Epoch 46, CIFAR-10 Batch 2:  Loss:     0.0039 Validation Accuracy: 0.617600\n",
      "Epoch 46, CIFAR-10 Batch 3:  Loss:     0.0033 Validation Accuracy: 0.610200\n",
      "Epoch 46, CIFAR-10 Batch 4:  Loss:     0.0091 Validation Accuracy: 0.619200\n",
      "Epoch 46, CIFAR-10 Batch 5:  Loss:     0.0030 Validation Accuracy: 0.598600\n",
      "Epoch 47, CIFAR-10 Batch 1:  Loss:     0.0060 Validation Accuracy: 0.611600\n",
      "Epoch 47, CIFAR-10 Batch 2:  Loss:     0.0031 Validation Accuracy: 0.614800\n",
      "Epoch 47, CIFAR-10 Batch 3:  Loss:     0.0031 Validation Accuracy: 0.624400\n",
      "Epoch 47, CIFAR-10 Batch 4:  Loss:     0.0049 Validation Accuracy: 0.621400\n",
      "Epoch 47, CIFAR-10 Batch 5:  Loss:     0.0035 Validation Accuracy: 0.622600\n",
      "Epoch 48, CIFAR-10 Batch 1:  Loss:     0.0046 Validation Accuracy: 0.616800\n",
      "Epoch 48, CIFAR-10 Batch 2:  Loss:     0.0018 Validation Accuracy: 0.612600\n",
      "Epoch 48, CIFAR-10 Batch 3:  Loss:     0.0022 Validation Accuracy: 0.613600\n",
      "Epoch 48, CIFAR-10 Batch 4:  Loss:     0.0056 Validation Accuracy: 0.629400\n",
      "Epoch 48, CIFAR-10 Batch 5:  Loss:     0.0013 Validation Accuracy: 0.617200\n",
      "Epoch 49, CIFAR-10 Batch 1:  Loss:     0.0023 Validation Accuracy: 0.618000\n",
      "Epoch 49, CIFAR-10 Batch 2:  Loss:     0.0021 Validation Accuracy: 0.612400\n",
      "Epoch 49, CIFAR-10 Batch 3:  Loss:     0.0050 Validation Accuracy: 0.621200\n",
      "Epoch 49, CIFAR-10 Batch 4:  Loss:     0.0046 Validation Accuracy: 0.613200\n",
      "Epoch 49, CIFAR-10 Batch 5:  Loss:     0.0020 Validation Accuracy: 0.610400\n",
      "Epoch 50, CIFAR-10 Batch 1:  Loss:     0.0018 Validation Accuracy: 0.622200\n",
      "Epoch 50, CIFAR-10 Batch 2:  Loss:     0.0023 Validation Accuracy: 0.604400\n",
      "Epoch 50, CIFAR-10 Batch 3:  Loss:     0.0042 Validation Accuracy: 0.622800\n",
      "Epoch 50, CIFAR-10 Batch 4:  Loss:     0.0025 Validation Accuracy: 0.598600\n",
      "Epoch 50, CIFAR-10 Batch 5:  Loss:     0.0037 Validation Accuracy: 0.621400\n",
      "Epoch 51, CIFAR-10 Batch 1:  Loss:     0.0037 Validation Accuracy: 0.628800\n",
      "Epoch 51, CIFAR-10 Batch 2:  Loss:     0.0015 Validation Accuracy: 0.625000\n",
      "Epoch 51, CIFAR-10 Batch 3:  Loss:     0.0037 Validation Accuracy: 0.615400\n",
      "Epoch 51, CIFAR-10 Batch 4:  Loss:     0.0022 Validation Accuracy: 0.611600\n",
      "Epoch 51, CIFAR-10 Batch 5:  Loss:     0.0012 Validation Accuracy: 0.621800\n",
      "Epoch 52, CIFAR-10 Batch 1:  Loss:     0.0024 Validation Accuracy: 0.623800\n",
      "Epoch 52, CIFAR-10 Batch 2:  Loss:     0.0013 Validation Accuracy: 0.610000\n",
      "Epoch 52, CIFAR-10 Batch 3:  Loss:     0.0015 Validation Accuracy: 0.617400\n",
      "Epoch 52, CIFAR-10 Batch 4:  Loss:     0.0022 Validation Accuracy: 0.618400\n",
      "Epoch 52, CIFAR-10 Batch 5:  Loss:     0.0022 Validation Accuracy: 0.612400\n",
      "Epoch 53, CIFAR-10 Batch 1:  Loss:     0.0017 Validation Accuracy: 0.615400\n",
      "Epoch 53, CIFAR-10 Batch 2:  Loss:     0.0012 Validation Accuracy: 0.614000\n",
      "Epoch 53, CIFAR-10 Batch 3:  Loss:     0.0028 Validation Accuracy: 0.617600\n",
      "Epoch 53, CIFAR-10 Batch 4:  Loss:     0.0032 Validation Accuracy: 0.628800\n",
      "Epoch 53, CIFAR-10 Batch 5:  Loss:     0.0037 Validation Accuracy: 0.628800\n",
      "Epoch 54, CIFAR-10 Batch 1:  Loss:     0.0012 Validation Accuracy: 0.618600\n",
      "Epoch 54, CIFAR-10 Batch 2:  Loss:     0.0024 Validation Accuracy: 0.619800\n",
      "Epoch 54, CIFAR-10 Batch 3:  Loss:     0.0044 Validation Accuracy: 0.614200\n",
      "Epoch 54, CIFAR-10 Batch 4:  Loss:     0.0038 Validation Accuracy: 0.627600\n",
      "Epoch 54, CIFAR-10 Batch 5:  Loss:     0.0016 Validation Accuracy: 0.618600\n",
      "Epoch 55, CIFAR-10 Batch 1:  Loss:     0.0012 Validation Accuracy: 0.620800\n",
      "Epoch 55, CIFAR-10 Batch 2:  Loss:     0.0008 Validation Accuracy: 0.622200\n",
      "Epoch 55, CIFAR-10 Batch 3:  Loss:     0.0014 Validation Accuracy: 0.605200\n",
      "Epoch 55, CIFAR-10 Batch 4:  Loss:     0.0020 Validation Accuracy: 0.619200\n",
      "Epoch 55, CIFAR-10 Batch 5:  Loss:     0.0025 Validation Accuracy: 0.625400\n",
      "Epoch 56, CIFAR-10 Batch 1:  Loss:     0.0008 Validation Accuracy: 0.623600\n",
      "Epoch 56, CIFAR-10 Batch 2:  Loss:     0.0014 Validation Accuracy: 0.614800\n",
      "Epoch 56, CIFAR-10 Batch 3:  Loss:     0.0021 Validation Accuracy: 0.620800\n",
      "Epoch 56, CIFAR-10 Batch 4:  Loss:     0.0014 Validation Accuracy: 0.621800\n",
      "Epoch 56, CIFAR-10 Batch 5:  Loss:     0.0009 Validation Accuracy: 0.627400\n",
      "Epoch 57, CIFAR-10 Batch 1:  Loss:     0.0011 Validation Accuracy: 0.618200\n",
      "Epoch 57, CIFAR-10 Batch 2:  Loss:     0.0034 Validation Accuracy: 0.625400\n",
      "Epoch 57, CIFAR-10 Batch 3:  Loss:     0.0026 Validation Accuracy: 0.612200\n",
      "Epoch 57, CIFAR-10 Batch 4:  Loss:     0.0054 Validation Accuracy: 0.631800\n",
      "Epoch 57, CIFAR-10 Batch 5:  Loss:     0.0027 Validation Accuracy: 0.621400\n",
      "Epoch 58, CIFAR-10 Batch 1:  Loss:     0.0010 Validation Accuracy: 0.620600\n",
      "Epoch 58, CIFAR-10 Batch 2:  Loss:     0.0015 Validation Accuracy: 0.629200\n",
      "Epoch 58, CIFAR-10 Batch 3:  Loss:     0.0030 Validation Accuracy: 0.621200\n",
      "Epoch 58, CIFAR-10 Batch 4:  Loss:     0.0017 Validation Accuracy: 0.615800\n",
      "Epoch 58, CIFAR-10 Batch 5:  Loss:     0.0013 Validation Accuracy: 0.610600\n",
      "Epoch 59, CIFAR-10 Batch 1:  Loss:     0.0016 Validation Accuracy: 0.622200\n",
      "Epoch 59, CIFAR-10 Batch 2:  Loss:     0.0013 Validation Accuracy: 0.616800\n",
      "Epoch 59, CIFAR-10 Batch 3:  Loss:     0.0027 Validation Accuracy: 0.623800\n",
      "Epoch 59, CIFAR-10 Batch 4:  Loss:     0.0005 Validation Accuracy: 0.623000\n",
      "Epoch 59, CIFAR-10 Batch 5:  Loss:     0.0016 Validation Accuracy: 0.620800\n",
      "Epoch 60, CIFAR-10 Batch 1:  Loss:     0.0014 Validation Accuracy: 0.627000\n",
      "Epoch 60, CIFAR-10 Batch 2:  Loss:     0.0003 Validation Accuracy: 0.624200\n",
      "Epoch 60, CIFAR-10 Batch 3:  Loss:     0.0025 Validation Accuracy: 0.614600\n",
      "Epoch 60, CIFAR-10 Batch 4:  Loss:     0.0007 Validation Accuracy: 0.625800\n",
      "Epoch 60, CIFAR-10 Batch 5:  Loss:     0.0006 Validation Accuracy: 0.617400\n",
      "Epoch 61, CIFAR-10 Batch 1:  Loss:     0.0006 Validation Accuracy: 0.616000\n",
      "Epoch 61, CIFAR-10 Batch 2:  Loss:     0.0006 Validation Accuracy: 0.618200\n",
      "Epoch 61, CIFAR-10 Batch 3:  Loss:     0.0015 Validation Accuracy: 0.617400\n",
      "Epoch 61, CIFAR-10 Batch 4:  Loss:     0.0005 Validation Accuracy: 0.625000\n",
      "Epoch 61, CIFAR-10 Batch 5:  Loss:     0.0006 Validation Accuracy: 0.605000\n",
      "Epoch 62, CIFAR-10 Batch 1:  Loss:     0.0053 Validation Accuracy: 0.600600\n",
      "Epoch 62, CIFAR-10 Batch 2:  Loss:     0.0008 Validation Accuracy: 0.615800\n",
      "Epoch 62, CIFAR-10 Batch 3:  Loss:     0.0010 Validation Accuracy: 0.604400\n",
      "Epoch 62, CIFAR-10 Batch 4:  Loss:     0.0006 Validation Accuracy: 0.623200\n",
      "Epoch 62, CIFAR-10 Batch 5:  Loss:     0.0005 Validation Accuracy: 0.613800\n",
      "Epoch 63, CIFAR-10 Batch 1:  Loss:     0.0026 Validation Accuracy: 0.615000\n",
      "Epoch 63, CIFAR-10 Batch 2:  Loss:     0.0010 Validation Accuracy: 0.619800\n",
      "Epoch 63, CIFAR-10 Batch 3:  Loss:     0.0026 Validation Accuracy: 0.611600\n",
      "Epoch 63, CIFAR-10 Batch 4:  Loss:     0.0006 Validation Accuracy: 0.629800\n",
      "Epoch 63, CIFAR-10 Batch 5:  Loss:     0.0005 Validation Accuracy: 0.618400\n",
      "Epoch 64, CIFAR-10 Batch 1:  Loss:     0.0010 Validation Accuracy: 0.616400\n",
      "Epoch 64, CIFAR-10 Batch 2:  Loss:     0.0012 Validation Accuracy: 0.608600\n",
      "Epoch 64, CIFAR-10 Batch 3:  Loss:     0.0014 Validation Accuracy: 0.622400\n",
      "Epoch 64, CIFAR-10 Batch 4:  Loss:     0.0019 Validation Accuracy: 0.624600\n",
      "Epoch 64, CIFAR-10 Batch 5:  Loss:     0.0009 Validation Accuracy: 0.629200\n"
     ]
    }
   ],
   "source": [
    "\"\"\"\n",
    "DON'T MODIFY ANYTHING IN THIS CELL\n",
    "\"\"\"\n",
    "save_model_path = './image_classification'\n",
    "\n",
    "print('Training...')\n",
    "with tf.Session() as sess:\n",
    "    # Initializing the variables\n",
    "    sess.run(tf.global_variables_initializer())\n",
    "    \n",
    "    # Training cycle\n",
    "    for epoch in range(epochs):\n",
    "        # Loop over all batches\n",
    "        n_batches = 5\n",
    "        for batch_i in range(1, n_batches + 1):\n",
    "            for batch_features, batch_labels in helper.load_preprocess_training_batch(batch_i, batch_size):\n",
    "                train_neural_network(sess, optimizer, keep_probability, batch_features, batch_labels)\n",
    "            print('Epoch {:>2}, CIFAR-10 Batch {}:  '.format(epoch + 1, batch_i), end='')\n",
    "            print_stats(sess, batch_features, batch_labels, cost, accuracy)\n",
    "            \n",
    "    # Save Model\n",
    "    saver = tf.train.Saver()\n",
    "    save_path = saver.save(sess, save_model_path)"
   ]
  },
  {
   "cell_type": "markdown",
   "metadata": {
    "deletable": true,
    "editable": true
   },
   "source": [
    "# Checkpoint\n",
    "The model has been saved to disk.\n",
    "## Test Model\n",
    "Test your model against the test dataset.  This will be your final accuracy. You should have an accuracy greater than 50%. If you don't, keep tweaking the model architecture and parameters."
   ]
  },
  {
   "cell_type": "code",
   "execution_count": 15,
   "metadata": {
    "collapsed": false,
    "deletable": true,
    "editable": true
   },
   "outputs": [
    {
     "name": "stdout",
     "output_type": "stream",
     "text": [
      "Testing Accuracy: 0.63759765625\n",
      "\n"
     ]
    },
    {
     "data": {
      "image/png": "[encoded data removed]",
      "text/plain": [
       "<matplotlib.figure.Figure at 0x7f7e085ebf28>"
      ]
     },
     "metadata": {
      "image/png": {
       "height": 319,
       "width": 355
      }
     },
     "output_type": "display_data"
    }
   ],
   "source": [
    "\"\"\"\n",
    "DON'T MODIFY ANYTHING IN THIS CELL\n",
    "\"\"\"\n",
    "%matplotlib inline\n",
    "%config InlineBackend.figure_format = 'retina'\n",
    "\n",
    "import tensorflow as tf\n",
    "import pickle\n",
    "import helper\n",
    "import random\n",
    "\n",
    "# Set batch size if not already set\n",
    "try:\n",
    "    if batch_size:\n",
    "        pass\n",
    "except NameError:\n",
    "    batch_size = 64\n",
    "\n",
    "save_model_path = './image_classification'\n",
    "n_samples = 4\n",
    "top_n_predictions = 3\n",
    "\n",
    "def test_model():\n",
    "    \"\"\"\n",
    "    Test the saved model against the test dataset\n",
    "    \"\"\"\n",
    "\n",
    "    test_features, test_labels = pickle.load(open('preprocess_training.p', mode='rb'))\n",
    "    loaded_graph = tf.Graph()\n",
    "\n",
    "    with tf.Session(graph=loaded_graph) as sess:\n",
    "        # Load model\n",
    "        loader = tf.train.import_meta_graph(save_model_path + '.meta')\n",
    "        loader.restore(sess, save_model_path)\n",
    "\n",
    "        # Get Tensors from loaded model\n",
    "        loaded_x = loaded_graph.get_tensor_by_name('x:0')\n",
    "        loaded_y = loaded_graph.get_tensor_by_name('y:0')\n",
    "        loaded_keep_prob = loaded_graph.get_tensor_by_name('keep_prob:0')\n",
    "        loaded_logits = loaded_graph.get_tensor_by_name('logits:0')\n",
    "        loaded_acc = loaded_graph.get_tensor_by_name('accuracy:0')\n",
    "        \n",
    "        # Get accuracy in batches for memory limitations\n",
    "        test_batch_acc_total = 0\n",
    "        test_batch_count = 0\n",
    "        \n",
    "        for train_feature_batch, train_label_batch in helper.batch_features_labels(test_features, test_labels, batch_size):\n",
    "            test_batch_acc_total += sess.run(\n",
    "                loaded_acc,\n",
    "                feed_dict={loaded_x: train_feature_batch, loaded_y: train_label_batch, loaded_keep_prob: 1.0})\n",
    "            test_batch_count += 1\n",
    "\n",
    "        print('Testing Accuracy: {}\\n'.format(test_batch_acc_total/test_batch_count))\n",
    "\n",
    "        # Print Random Samples\n",
    "        random_test_features, random_test_labels = tuple(zip(*random.sample(list(zip(test_features, test_labels)), n_samples)))\n",
    "        random_test_predictions = sess.run(\n",
    "            tf.nn.top_k(tf.nn.softmax(loaded_logits), top_n_predictions),\n",
    "            feed_dict={loaded_x: random_test_features, loaded_y: random_test_labels, loaded_keep_prob: 1.0})\n",
    "        helper.display_image_predictions(random_test_features, random_test_labels, random_test_predictions)\n",
    "\n",
    "\n",
    "test_model()"
   ]
  },
  {
   "cell_type": "markdown",
   "metadata": {
    "deletable": true,
    "editable": true
   },
   "source": [
    "## Why 50-70% Accuracy?\n",
    "You might be wondering why you can't get an accuracy any higher. First things first, 50% isn't bad for a simple CNN.  Pure guessing would get you 10% accuracy. However, you might notice people are getting scores [well above 70%](http://rodrigob.github.io/are_we_there_yet/build/classification_datasets_results.html#43494641522d3130).  That's because we haven't taught you all there is to know about neural networks. We still need to cover a few more techniques.\n",
    "## Submitting This Project\n",
    "When submitting this project, make sure to run all the cells before saving the notebook.  Save the notebook file as \"dlnd_image_classification.ipynb\" and save it as a HTML file under \"File\" -> \"Download as\".  Include the \"helper.py\" and \"problem_unittests.py\" files in your submission."
   ]
  }
 ],
 "metadata": {
  "kernelspec": {
   "display_name": "Python 3",
   "language": "python",
   "name": "python3"
  },
  "language_info": {
   "codemirror_mode": {
    "name": "ipython",
    "version": 3
   },
   "file_extension": ".py",
   "mimetype": "text/x-python",
   "name": "python",
   "nbconvert_exporter": "python",
   "pygments_lexer": "ipython3",
   "version": "3.6.0"
  }
 },
 "nbformat": 4,
 "nbformat_minor": 0
}
